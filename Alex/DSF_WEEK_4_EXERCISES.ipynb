{
 "cells": [
  {
   "cell_type": "markdown",
   "metadata": {
    "colab_type": "text",
    "id": "_a2hajcA99-K"
   },
   "source": [
    "![BTS](https://github.com/vfp1/bts-mbds-data-science-foundations-2019/blob/master/sessions/img/Logo-BTS.jpg?raw=1)\n",
    "\n",
    "# WEEK 4: Assignements\n",
    "\n",
    "### Victor F. Pajuelo Madrigal <victor.pajuelo@bts.tech> - Data Science Foundations (2019-11-07)\n",
    "\n",
    "Open this notebook in Google Colaboratory: [![Open in Colab](https://colab.research.google.com/assets/colab-badge.svg)](https://colab.research.google.com/github/vfp1/bts-mbds-data-science-foundations-2019/blob/master/sessions/DSF_WEEK_4_EXERCISES.ipynb)"
   ]
  },
  {
   "cell_type": "markdown",
   "metadata": {
    "colab_type": "text",
    "id": "HCvH2cLM_1Cq"
   },
   "source": [
    "# Exercise 1: dispersion plots [OBLIGATORY]\n",
    "\n",
    "1. Load the `holy_grail.txt` dataset and create a dictionary of names and indexes like `{\"NAME\": [1, 2, 5, 10, ...]}` to store when does each NOUN appears among the 5 most frequent ones.\n",
    "3. Visualize in the same graph the appearances of the top 5 characters to compare them.\n",
    "4. **OPTIONAL**: Try the same exercise with [this file in the GitHub repo](https://github.com/vfp1/bts-mbds-data-science-foundations-2019/raw/master/sessions/data/pride_and_prejudice.txt)"
   ]
  },
  {
   "cell_type": "markdown",
   "metadata": {
    "colab_type": "text",
    "id": "XrA3YsGkQVY4"
   },
   "source": [
    "# Exercise 2: clustering words [OBLIGATORY]\n",
    "\n",
    "Generate a scatter plot with the distance of the words in [this file](https://github.com/vfp1/bts-mbds-data-science-foundations-2019/raw/master/sessions/data/1-1000.txt). Load it correctly, beware not to load it as html! Use either PCA or t-SNE to cluster the words, play with different language models. For extra points, find the way to annotate the labels without clustering them, using arrows for instance. [Hint](https://stackoverflow.com/questions/40021676/pyplot-label-scatter-plot-with-coincident-points-overlapping-annotations)."
   ]
  },
  {
   "cell_type": "markdown",
   "metadata": {
    "colab_type": "text",
    "id": "kRIP0xZeYrvn"
   },
   "source": [
    "# Exercise 3: Jaccard Similairty and TF-IDF [OBLIGATORY]\n",
    "\n",
    "Collect at least 7 sentences from political parties in your country. Try to do Jaccard Similarity and tf-idf on them so that you can see what are the most common words used between the parties. You neeed to translate the sentences to english, so that I can evaluate :)\n",
    "\n",
    "Why Jaccard Similarity tends to fail? [Hint](https://medium.com/@adriensieg/text-similarities-da019229c894)\n",
    "\n",
    "If you do not want to collect those sentences use the following:\n",
    "\n"
   ]
  },
  {
   "cell_type": "code",
   "execution_count": 0,
   "metadata": {
    "colab": {},
    "colab_type": "code",
    "id": "pScF0XDi0ps3"
   },
   "outputs": [],
   "source": [
    "t0 = \"President Trump greets the press in Chicago addressing the Cambridge Analytica release\"\n",
    "t1 = \"Trump speaks in front of the press in Chicago, regarding the Cambridge Analytica scandal\"\n",
    "t2 = \"Vladimir Putin, president of Russia, denies any involvement with electoral hacking through Cambridge Analytica\"\n",
    "t3 = \"Democrats accuse Russia of interfernig the United States elections using hacking methods\"\n",
    "t4 = \"Republicans deny any interference from Russia into the elections, and mock democrats about it\"\n",
    "t5 = \"Vladimir Putin attends a press conference about the issues occurring in Crimea\"\n",
    "t6 = \"The president of Russia, Vladimir Putin, replied questions regarding the scandal around Crimea\""
   ]
  },
  {
   "cell_type": "code",
   "execution_count": 0,
   "metadata": {
    "colab": {},
    "colab_type": "code",
    "id": "Xn_3i2LchlI6"
   },
   "outputs": [],
   "source": []
  }
 ],
 "metadata": {
  "colab": {
   "collapsed_sections": [],
   "name": "DSF_WEEK_4_EXERCISES.ipynb",
   "provenance": []
  },
  "kernelspec": {
   "display_name": "Python 3",
   "language": "python",
   "name": "python3"
  },
  "language_info": {
   "codemirror_mode": {
    "name": "ipython",
    "version": 3
   },
   "file_extension": ".py",
   "mimetype": "text/x-python",
   "name": "python",
   "nbconvert_exporter": "python",
   "pygments_lexer": "ipython3",
   "version": "3.6.7"
  }
 },
 "nbformat": 4,
 "nbformat_minor": 1
}
