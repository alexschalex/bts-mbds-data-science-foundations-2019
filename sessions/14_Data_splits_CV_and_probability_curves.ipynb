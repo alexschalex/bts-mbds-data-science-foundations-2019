{
  "nbformat": 4,
  "nbformat_minor": 0,
  "metadata": {
    "colab": {
      "name": "14_Data_splits_CV_and_probability_curves.ipynb",
      "provenance": [],
      "collapsed_sections": [],
      "toc_visible": true,
      "machine_shape": "hm"
    },
    "kernelspec": {
      "name": "python3",
      "display_name": "Python 3"
    },
    "accelerator": "GPU"
  },
  "cells": [
    {
      "cell_type": "markdown",
      "metadata": {
        "id": "_a2hajcA99-K",
        "colab_type": "text"
      },
      "source": [
        "![BTS](https://github.com/vfp1/bts-mbds-data-science-foundations-2019/raw/master/sessions/img/Logo-BTS.jpg)\n",
        "\n",
        "# Session 14: Model validation cted. and algorithms\n",
        "### Victor F. Pajuelo Madrigal <victor.pajuelo@bts.tech> - Data Science Foundations (2019-11-28)\n",
        "\n",
        "Open this notebook in Google Colaboratory: [![Open in Colab](https://colab.research.google.com/assets/colab-badge.svg)](https://colab.research.google.com/github/vfp1/bts-mbds-data-science-foundations-2019/blob/master/sessions/14_Data_splits_CV_and_probability_curves.ipynb)\n",
        "\n",
        "**Resources:**\n",
        "\n",
        "*   Jake VanderPlass\n",
        "*   Machine Learning Mastery\n",
        "*   Sklearn documentation\n",
        "\n"
      ]
    },
    {
      "cell_type": "markdown",
      "metadata": {
        "id": "IkHo9i0eCXn2",
        "colab_type": "text"
      },
      "source": [
        "# About the next sessions\n",
        "\n",
        "*   Model validation\n",
        "*   In depth algorithms\n",
        "*   Data scrapping, gathering\n",
        "*   Project to product: Docker and app release"
      ]
    },
    {
      "cell_type": "markdown",
      "metadata": {
        "id": "zKkKVRcn7-kf",
        "colab_type": "text"
      },
      "source": [
        "# Data splits"
      ]
    },
    {
      "cell_type": "markdown",
      "metadata": {
        "id": "hsb-wj1jBGAQ",
        "colab_type": "text"
      },
      "source": [
        "*The literature on machine learning often reverses the meaning of “validation” and “test” sets. This is the most blatant example of the terminological confusion that pervades artificial intelligence research.*\n",
        "\n",
        "*The crucial point is that a test set, by the standard definition in the NN [neural net] literature, is never used to choose among two or more networks, so that the error on the test set provides an unbiased estimate of the generalization error (assuming that the test set is representative of the population, etc.).*\n",
        "\n",
        "\n",
        "* **Training Dataset**: The sample of data used to fit the model.\n",
        "* **Validation Dataset**: The sample of data used to provide an unbiased evaluation of a model fit on the training dataset while tuning model hyperparameters. The evaluation becomes more biased as skill on the validation dataset is incorporated into the model configuration.\n",
        "* **Test Dataset**: The sample of data used to provide an unbiased evaluation of a final model fit on the training dataset.\n",
        "\n",
        "We can make this concrete with a pseudocode sketch:\n"
      ]
    },
    {
      "cell_type": "code",
      "metadata": {
        "id": "stmUmfBD8AwE",
        "colab_type": "code",
        "colab": {}
      },
      "source": [
        "# split data\n",
        "data = ...\n",
        "train, validation, test = split(data)\n",
        " \n",
        "# tune model hyperparameters\n",
        "parameters = ...\n",
        "for params in parameters:\n",
        "\tmodel = fit(train, params)\n",
        "\tskill = evaluate(model, validation)\n",
        " \n",
        "# evaluate final model for comparison with other models\n",
        "model = fit(train)\n",
        "skill = evaluate(model, test)"
      ],
      "execution_count": 0,
      "outputs": []
    },
    {
      "cell_type": "markdown",
      "metadata": {
        "id": "pLbRQVNdjsdY",
        "colab_type": "text"
      },
      "source": [
        "## Important note on jargon!!!\n",
        "\n",
        "* **Model evaluation** is done with the `test split`\n",
        "* **Model validation** is done with the `validation split` (extracted from train)\n",
        "* **Model training** is done with the training split"
      ]
    },
    {
      "cell_type": "markdown",
      "metadata": {
        "id": "7Z7BywVbCZj8",
        "colab_type": "text"
      },
      "source": [
        "## Computing a Train, Validation, Test split in Sklearn\n",
        "\n",
        "Here the train is 60%, the validation is 20% and the test is 20% over the whole dataset\n",
        "\n"
      ]
    },
    {
      "cell_type": "code",
      "metadata": {
        "id": "fuan_WhZc6_f",
        "colab_type": "code",
        "colab": {}
      },
      "source": [
        "from sklearn.model_selection import train_test_split\n",
        "\n",
        " X_train, X_test, y_train, y_test \n",
        "    = train_test_split(X, y, test_size=0.2, random_state=1)\n",
        "\n",
        " X_train, X_val, y_train, y_val \n",
        "    = train_test_split(X_train, y_train, test_size=0.25, random_state=1)"
      ],
      "execution_count": 0,
      "outputs": []
    },
    {
      "cell_type": "markdown",
      "metadata": {
        "id": "zBSUmz1kfDQd",
        "colab_type": "text"
      },
      "source": [
        "## Computing a Train, Validation, Test split in Keras\n",
        "\n",
        "In Keras is slightly easier to compute a validation split, you just pass it to the *fit* function. \n",
        "\n",
        "If you set the validation_split argument in model.fit to e.g. 0.1, then the validation data used will be the last 10% of the data. If you set it to 0.25, it will be the last 25% of the data, etc. Note that the data isn't shuffled before extracting the validation split, so the validation is literally just the last x% of samples in the input you passed.\n",
        "\n",
        "The same validation set is used for all epochs (within a same call to fit)."
      ]
    },
    {
      "cell_type": "code",
      "metadata": {
        "id": "LL-OPc9DgdAl",
        "colab_type": "code",
        "colab": {}
      },
      "source": [
        "hist = model.fit(x_train, y_train, validation_split=0.2)"
      ],
      "execution_count": 0,
      "outputs": []
    },
    {
      "cell_type": "markdown",
      "metadata": {
        "id": "Fi49BCiK2UWa",
        "colab_type": "text"
      },
      "source": [
        "## Your turn\n",
        "\n",
        "Perform a TVT split over the dataset chosen for your project. Print the shape of each subset. If you do not have a dataset yet, chose iris dataset from sklearn."
      ]
    },
    {
      "cell_type": "markdown",
      "metadata": {
        "id": "ZBOua6zl6V2n",
        "colab_type": "text"
      },
      "source": [
        "# Cross-validation again"
      ]
    },
    {
      "cell_type": "markdown",
      "metadata": {
        "id": "dOY90MmahETl",
        "colab_type": "text"
      },
      "source": [
        "## Evaluating estimator performance\n",
        "\n",
        "Learning the parameters of a prediction function and testing it on the same data is a methodological mistake: `a model that would just repeat the labels of the samples that it has just seen would have a perfect score but would fail to predict anything useful on yet-unseen data`. This situation is called **overfitting**. To avoid it, it is common practice when performing a `(supervised) machine learning` experiment to hold out part of the available data as a test set `X_test, y_test`. \n",
        "\n",
        "Here is a flowchart of typical cross validation workflow in model training. The best parameters can be determined by `grid search` techniques.\n",
        "\n",
        "![alt text](https://scikit-learn.org/stable/_images/grid_search_workflow.png)"
      ]
    },
    {
      "cell_type": "code",
      "metadata": {
        "id": "mnacZjeR6YKw",
        "colab_type": "code",
        "outputId": "c95fcfef-2034-4830-97a7-fac9c29c145e",
        "colab": {
          "base_uri": "https://localhost:8080/",
          "height": 35
        }
      },
      "source": [
        "import numpy as np\n",
        "from sklearn.model_selection import train_test_split\n",
        "from sklearn import datasets\n",
        "from sklearn import svm\n",
        "\n",
        "iris = datasets.load_iris()\n",
        "iris.data.shape, iris.target.shape"
      ],
      "execution_count": 0,
      "outputs": [
        {
          "output_type": "execute_result",
          "data": {
            "text/plain": [
              "((150, 4), (150,))"
            ]
          },
          "metadata": {
            "tags": []
          },
          "execution_count": 1
        }
      ]
    },
    {
      "cell_type": "markdown",
      "metadata": {
        "id": "LcteGGrzjmsQ",
        "colab_type": "text"
      },
      "source": [
        "We can now quickly sample a training set while holding out 40% of the data for testing (evaluating) our classifier:\n",
        "\n"
      ]
    },
    {
      "cell_type": "code",
      "metadata": {
        "id": "Nr6RYD2MkJKY",
        "colab_type": "code",
        "colab": {}
      },
      "source": [
        "X_train, X_test, \\\n",
        "y_train, y_test = train_test_split(iris.data, iris.target, test_size=0.4, random_state=0)"
      ],
      "execution_count": 0,
      "outputs": []
    },
    {
      "cell_type": "code",
      "metadata": {
        "id": "kTqa3W5XkR8C",
        "colab_type": "code",
        "outputId": "453710b3-f900-4ed6-bdd4-1de38ba9b9c6",
        "colab": {
          "base_uri": "https://localhost:8080/",
          "height": 35
        }
      },
      "source": [
        "X_train.shape, y_train.shape"
      ],
      "execution_count": 0,
      "outputs": [
        {
          "output_type": "execute_result",
          "data": {
            "text/plain": [
              "((90, 4), (90,))"
            ]
          },
          "metadata": {
            "tags": []
          },
          "execution_count": 3
        }
      ]
    },
    {
      "cell_type": "code",
      "metadata": {
        "id": "2filw8IwkVfz",
        "colab_type": "code",
        "outputId": "ebfe9a22-e981-4cad-a253-ec0df424e67a",
        "colab": {
          "base_uri": "https://localhost:8080/",
          "height": 35
        }
      },
      "source": [
        "X_test.shape, y_test.shape"
      ],
      "execution_count": 0,
      "outputs": [
        {
          "output_type": "execute_result",
          "data": {
            "text/plain": [
              "((60, 4), (60,))"
            ]
          },
          "metadata": {
            "tags": []
          },
          "execution_count": 4
        }
      ]
    },
    {
      "cell_type": "code",
      "metadata": {
        "id": "D2keCxXKkaWB",
        "colab_type": "code",
        "colab": {}
      },
      "source": [
        "clf = svm.SVC(kernel='linear', C=1).fit(X_train, y_train)"
      ],
      "execution_count": 0,
      "outputs": []
    },
    {
      "cell_type": "code",
      "metadata": {
        "id": "8PrSRumlkVnZ",
        "colab_type": "code",
        "outputId": "37c32a08-71b2-4f74-e06b-a28446222f7a",
        "colab": {
          "base_uri": "https://localhost:8080/",
          "height": 35
        }
      },
      "source": [
        "clf.score(X_test, y_test)                           "
      ],
      "execution_count": 0,
      "outputs": [
        {
          "output_type": "execute_result",
          "data": {
            "text/plain": [
              "0.9666666666666667"
            ]
          },
          "metadata": {
            "tags": []
          },
          "execution_count": 6
        }
      ]
    },
    {
      "cell_type": "markdown",
      "metadata": {
        "id": "-rdXDtDkk2hf",
        "colab_type": "text"
      },
      "source": [
        "### The problem of under or overfitting: tuning model hyperparameters\n",
        "\n",
        "When evaluating different settings (“hyperparameters”) for estimators, such as the C setting that must be manually set for an SVM, there is still a **risk of overfitting on the test set** because the `parameters can be tweaked until the estimator performs optimally`. This way, `knowledge about the test set can “leak”` into the model and evaluation metrics no longer report on generalization performance. \n",
        "\n",
        "To solve this problem, `yet another part of the dataset can be held out as a so-called “validation set”`: training proceeds on the training set, after which evaluation is done on the validation set, and when the experiment seems to be successful, final evaluation can be done on the test set.\n",
        "\n",
        "However, by partitioning the available data into three sets, we drastically reduce the number of samples which can be used for learning the model, and the results can depend on a particular random choice for the pair of (train, validation) sets.\n",
        "\n",
        "A solution to this problem is a procedure called `cross-validation (CV for short)`. A test set should still be held out for final evaluation, but **the validation set is no longer needed** when doing CV. In the basic approach, called k-fold CV, the training set is split into k smaller sets. There are other approaches that we will learn later in the course.\n",
        "\n",
        "**Key takeaways**\n",
        "\n",
        "* When we train our algorithm, we get a score at the end.\n",
        "* We can modify the hyperparameters for our training in order to improve that score\n",
        "* That results in the fact that we are \"tuning\" the model based on the results on the test, thus leaking the test into the training and halting generalization\n",
        "* We could avoid this by using a validation set, to evaluate the model on training. However, this will reduce severly our dataset\n",
        "* We can use CV for maintaining the size of our dataset while using parts of it for evaluation"
      ]
    },
    {
      "cell_type": "markdown",
      "metadata": {
        "id": "XyD-SNd0l3MB",
        "colab_type": "text"
      },
      "source": [
        "The following procedure is followed for each of the k “folds”:\n",
        "\n",
        "*  A model is trained using `k-1` of the folds as training data\n",
        "*  The resulting model is evaluated on the remaining part of the data (i.e., it is used as a test set to compute a performance measure such as accuracy).\n",
        "\n",
        "The performance measure reported by k-fold cross-validation is then the average of the values computed in the loop. **This approach can be computationally expensive**, but does not waste too much data (as is the case when fixing an arbitrary validation set), which is a major advantage in problems when our data is too small.\n",
        "\n",
        "![alt text](https://scikit-learn.org/stable/_images/grid_search_cross_validation.png)"
      ]
    },
    {
      "cell_type": "markdown",
      "metadata": {
        "id": "d-iWTWJooWzq",
        "colab_type": "text"
      },
      "source": [
        "### Computing cross-validation metrics\n",
        "\n",
        "The simplest way to use cross-validation is to call the `cross_val_score` helper function on the estimator and the dataset.\n",
        "\n",
        "The following example demonstrates how to estimate the accuracy of a linear kernel support vector machine on the iris dataset by splitting the data, fitting a model and computing the score 5 consecutive times (with different splits each time):"
      ]
    },
    {
      "cell_type": "code",
      "metadata": {
        "id": "7Jm9Jxx3k9q9",
        "colab_type": "code",
        "outputId": "7aada166-83c3-4a1e-cf86-67ed493f2373",
        "colab": {
          "base_uri": "https://localhost:8080/",
          "height": 35
        }
      },
      "source": [
        "from sklearn.model_selection import cross_val_score\n",
        "clf = svm.SVC(kernel='linear', C=1)\n",
        "scores = cross_val_score(clf, iris.data, iris.target, cv=5)\n",
        "scores                                              "
      ],
      "execution_count": 0,
      "outputs": [
        {
          "output_type": "execute_result",
          "data": {
            "text/plain": [
              "array([0.96666667, 1.        , 0.96666667, 0.96666667, 1.        ])"
            ]
          },
          "metadata": {
            "tags": []
          },
          "execution_count": 7
        }
      ]
    },
    {
      "cell_type": "markdown",
      "metadata": {
        "id": "FoAH-Xugpxb4",
        "colab_type": "text"
      },
      "source": [
        "The mean score and the 95% confidence interval of the score estimate are hence given by:\n",
        "\n"
      ]
    },
    {
      "cell_type": "code",
      "metadata": {
        "id": "d5ZF3r3zpyzQ",
        "colab_type": "code",
        "outputId": "4f196c22-b3de-4641-b239-e8526e2e64dc",
        "colab": {
          "base_uri": "https://localhost:8080/",
          "height": 35
        }
      },
      "source": [
        "print(\"Accuracy: %0.2f (+/- %0.2f)\" % (scores.mean(), scores.std() * 2))"
      ],
      "execution_count": 0,
      "outputs": [
        {
          "output_type": "stream",
          "text": [
            "Accuracy: 0.98 (+/- 0.03)\n"
          ],
          "name": "stdout"
        }
      ]
    },
    {
      "cell_type": "markdown",
      "metadata": {
        "id": "oNUinRRDp8Bd",
        "colab_type": "text"
      },
      "source": [
        "By default, the score computed at each CV iteration is the score method of the estimator. It is possible to change this by using the scoring parameter.\n",
        "\n",
        "You can check the available scorings [here](https://scikit-learn.org/stable/modules/model_evaluation.html#scoring-parameter)."
      ]
    },
    {
      "cell_type": "code",
      "metadata": {
        "id": "-N5EoAd9py2D",
        "colab_type": "code",
        "outputId": "57ed9ae9-4ff1-4715-f5ec-25444439cf6e",
        "colab": {
          "base_uri": "https://localhost:8080/",
          "height": 35
        }
      },
      "source": [
        "from sklearn import metrics\n",
        "scores = cross_val_score(clf, iris.data, iris.target, cv=5, scoring='f1_macro')\n",
        "scores  "
      ],
      "execution_count": 0,
      "outputs": [
        {
          "output_type": "execute_result",
          "data": {
            "text/plain": [
              "array([0.96658312, 1.        , 0.96658312, 0.96658312, 1.        ])"
            ]
          },
          "metadata": {
            "tags": []
          },
          "execution_count": 9
        }
      ]
    },
    {
      "cell_type": "markdown",
      "metadata": {
        "id": "V277nXfmrUO6",
        "colab_type": "text"
      },
      "source": [
        "#### Tweaking n_jobs\n",
        "\n",
        "Cross validation it is a heavy computing process, we can tweak the number of CPUs involved by using n_jobs (-1 uses all the available ones by default). Be careful, if your model is too big leave one CPU out so you can still watch videos on YouTube."
      ]
    },
    {
      "cell_type": "code",
      "metadata": {
        "id": "I6dW7Egkpy6Y",
        "colab_type": "code",
        "outputId": "5f74a4de-2e66-4507-f544-429bc43f3417",
        "colab": {
          "base_uri": "https://localhost:8080/",
          "height": 35
        }
      },
      "source": [
        "from sklearn import metrics\n",
        "scores = cross_val_score(clf, iris.data, iris.target, cv=5, scoring='f1_macro', n_jobs=-1)\n",
        "scores  "
      ],
      "execution_count": 0,
      "outputs": [
        {
          "output_type": "execute_result",
          "data": {
            "text/plain": [
              "array([0.96658312, 1.        , 0.96658312, 0.96658312, 1.        ])"
            ]
          },
          "metadata": {
            "tags": []
          },
          "execution_count": 10
        }
      ]
    },
    {
      "cell_type": "markdown",
      "metadata": {
        "id": "gymAY6yBsd_I",
        "colab_type": "text"
      },
      "source": [
        "In the case of the Iris dataset, the samples are balanced across target classes hence the accuracy and the F1-score are almost equal.\n",
        "\n",
        "When the `cv argument is an integer`, cross_val_score uses the `KFold` or StratifiedKFold strategies by default, the latter being used if the estimator derives from ClassifierMixin."
      ]
    },
    {
      "cell_type": "markdown",
      "metadata": {
        "id": "eO-rm4YXtxMB",
        "colab_type": "text"
      },
      "source": [
        "## Parameter estimation: GridSearch + Cross Validation\n",
        "\n",
        "We can use GridSearch + CrossValidation to select our model parameters.\n",
        "\n",
        "We use the dedicated function called GridSearchCV which can be used for that matter.\n",
        "\n",
        "The performance of the selected hyper-parameters and trained model is then measured on a dedicated evaluation set that was not used during the model selection step."
      ]
    },
    {
      "cell_type": "code",
      "metadata": {
        "id": "Lp-cwK38visl",
        "colab_type": "code",
        "outputId": "851e71f0-4642-47a3-94dd-62282d073cec",
        "colab": {
          "base_uri": "https://localhost:8080/",
          "height": 35
        }
      },
      "source": [
        "from sklearn import datasets\n",
        "from sklearn.model_selection import train_test_split\n",
        "from sklearn.model_selection import GridSearchCV\n",
        "from sklearn.metrics import classification_report\n",
        "from sklearn.svm import SVC\n",
        "\n",
        "# Loading the Digits dataset\n",
        "digits = datasets.load_digits()\n",
        "\n",
        "# To apply an classifier on this data, we need to flatten the image, to\n",
        "# turn the data in a (samples, feature) matrix:\n",
        "n_samples = len(digits.images)\n",
        "X = digits.images.reshape((n_samples, -1))\n",
        "y = digits.target\n",
        "\n",
        "print(X.shape, y.shape)"
      ],
      "execution_count": 0,
      "outputs": [
        {
          "output_type": "stream",
          "text": [
            "(1797, 64) (1797,)\n"
          ],
          "name": "stdout"
        }
      ]
    },
    {
      "cell_type": "code",
      "metadata": {
        "id": "KTes7ovTvtAC",
        "colab_type": "code",
        "outputId": "246dbabf-67a4-437c-e378-795cdfc2e34f",
        "colab": {
          "base_uri": "https://localhost:8080/",
          "height": 53
        }
      },
      "source": [
        "# Split the dataset in two equal parts\n",
        "X_train, X_test, y_train, y_test = train_test_split(\n",
        "    X, y, test_size=0.5, random_state=0)\n",
        "\n",
        "print(X_train.shape, y_train.shape)\n",
        "print(X_test.shape, y_test.shape)"
      ],
      "execution_count": 0,
      "outputs": [
        {
          "output_type": "stream",
          "text": [
            "(898, 64) (898,)\n",
            "(899, 64) (899,)\n"
          ],
          "name": "stdout"
        }
      ]
    },
    {
      "cell_type": "code",
      "metadata": {
        "id": "m4DnDmZEpy9n",
        "colab_type": "code",
        "colab": {}
      },
      "source": [
        "# Set the parameters by cross-validation\n",
        "tuned_parameters = [{'kernel': ['rbf'], 'gamma': [1e-3, 1e-4],\n",
        "                     'C': [1, 10, 100, 1000]},\n",
        "                    {'kernel': ['linear'], 'C': [1, 10, 100, 1000]}]"
      ],
      "execution_count": 0,
      "outputs": []
    },
    {
      "cell_type": "code",
      "metadata": {
        "id": "mbdaNswZxm6H",
        "colab_type": "code",
        "outputId": "cbd6c16b-b19b-4efd-b674-ba0125304284",
        "colab": {
          "base_uri": "https://localhost:8080/",
          "height": 755
        }
      },
      "source": [
        "import sklearn\n",
        "sorted(sklearn.metrics.SCORERS.keys())"
      ],
      "execution_count": 0,
      "outputs": [
        {
          "output_type": "execute_result",
          "data": {
            "text/plain": [
              "['accuracy',\n",
              " 'adjusted_mutual_info_score',\n",
              " 'adjusted_rand_score',\n",
              " 'average_precision',\n",
              " 'balanced_accuracy',\n",
              " 'brier_score_loss',\n",
              " 'completeness_score',\n",
              " 'explained_variance',\n",
              " 'f1',\n",
              " 'f1_macro',\n",
              " 'f1_micro',\n",
              " 'f1_samples',\n",
              " 'f1_weighted',\n",
              " 'fowlkes_mallows_score',\n",
              " 'homogeneity_score',\n",
              " 'jaccard',\n",
              " 'jaccard_macro',\n",
              " 'jaccard_micro',\n",
              " 'jaccard_samples',\n",
              " 'jaccard_weighted',\n",
              " 'max_error',\n",
              " 'mutual_info_score',\n",
              " 'neg_log_loss',\n",
              " 'neg_mean_absolute_error',\n",
              " 'neg_mean_squared_error',\n",
              " 'neg_mean_squared_log_error',\n",
              " 'neg_median_absolute_error',\n",
              " 'normalized_mutual_info_score',\n",
              " 'precision',\n",
              " 'precision_macro',\n",
              " 'precision_micro',\n",
              " 'precision_samples',\n",
              " 'precision_weighted',\n",
              " 'r2',\n",
              " 'recall',\n",
              " 'recall_macro',\n",
              " 'recall_micro',\n",
              " 'recall_samples',\n",
              " 'recall_weighted',\n",
              " 'roc_auc',\n",
              " 'v_measure_score']"
            ]
          },
          "metadata": {
            "tags": []
          },
          "execution_count": 22
        }
      ]
    },
    {
      "cell_type": "code",
      "metadata": {
        "id": "v73MMQYDwknh",
        "colab_type": "code",
        "outputId": "4b380479-49bf-4c3b-9325-9638dddbfe20",
        "colab": {
          "base_uri": "https://localhost:8080/",
          "height": 233
        }
      },
      "source": [
        "clf = GridSearchCV(SVC(), tuned_parameters, cv=5,\n",
        "                    scoring='accuracy')\n",
        "clf.fit(X_train, y_train)"
      ],
      "execution_count": 0,
      "outputs": [
        {
          "output_type": "execute_result",
          "data": {
            "text/plain": [
              "GridSearchCV(cv=5, error_score='raise-deprecating',\n",
              "             estimator=SVC(C=1.0, cache_size=200, class_weight=None, coef0=0.0,\n",
              "                           decision_function_shape='ovr', degree=3,\n",
              "                           gamma='auto_deprecated', kernel='rbf', max_iter=-1,\n",
              "                           probability=False, random_state=None, shrinking=True,\n",
              "                           tol=0.001, verbose=False),\n",
              "             iid='warn', n_jobs=None,\n",
              "             param_grid=[{'C': [1, 10, 100, 1000], 'gamma': [0.001, 0.0001],\n",
              "                          'kernel': ['rbf']},\n",
              "                         {'C': [1, 10, 100, 1000], 'kernel': ['linear']}],\n",
              "             pre_dispatch='2*n_jobs', refit=True, return_train_score=False,\n",
              "             scoring='accuracy', verbose=0)"
            ]
          },
          "metadata": {
            "tags": []
          },
          "execution_count": 23
        }
      ]
    },
    {
      "cell_type": "code",
      "metadata": {
        "id": "HGawqPJqx296",
        "colab_type": "code",
        "outputId": "8fd59d9b-73fb-4fa0-e0be-2633280b7672",
        "colab": {
          "base_uri": "https://localhost:8080/",
          "height": 35
        }
      },
      "source": [
        "clf.best_params_"
      ],
      "execution_count": 0,
      "outputs": [
        {
          "output_type": "execute_result",
          "data": {
            "text/plain": [
              "{'C': 10, 'gamma': 0.001, 'kernel': 'rbf'}"
            ]
          },
          "metadata": {
            "tags": []
          },
          "execution_count": 24
        }
      ]
    },
    {
      "cell_type": "markdown",
      "metadata": {
        "id": "pSav15cByFC0",
        "colab_type": "text"
      },
      "source": [
        "### Using more than one metric"
      ]
    },
    {
      "cell_type": "code",
      "metadata": {
        "id": "c8X5mkrFyI_R",
        "colab_type": "code",
        "colab": {}
      },
      "source": [
        "# Set the parameters by cross-validation\n",
        "tuned_parameters = [{'kernel': ['rbf'], 'gamma': [1e-3, 1e-4],\n",
        "                     'C': [1, 10, 100, 1000]},\n",
        "                    {'kernel': ['linear'], 'C': [1, 10, 100, 1000]}]\n",
        "\n",
        "scores = ['accuracy','precision', 'recall']"
      ],
      "execution_count": 0,
      "outputs": []
    },
    {
      "cell_type": "code",
      "metadata": {
        "id": "PShTcnNcwPm3",
        "colab_type": "code",
        "outputId": "02f3c081-37d7-4345-da89-4dc24fbf9ddc",
        "colab": {
          "base_uri": "https://localhost:8080/",
          "height": 1000
        }
      },
      "source": [
        "for score in scores:\n",
        "    print(\"-----------------------------------------\")\n",
        "    print(\"# Tuning hyper-parameters for %s\" % score)\n",
        "    print()\n",
        "\n",
        "    if score == 'accuracy':\n",
        "\n",
        "        clf = GridSearchCV(SVC(), tuned_parameters, cv=5,\n",
        "                        scoring=score)\n",
        "        clf.fit(X_train, y_train)\n",
        "\n",
        "    else:\n",
        "\n",
        "        clf = GridSearchCV(SVC(), tuned_parameters, cv=5,\n",
        "                        scoring='%s_macro' % score)\n",
        "        clf.fit(X_train, y_train)\n",
        "\n",
        "\n",
        "    print(\"Best parameters set found on development set:\")\n",
        "    print()\n",
        "    print(clf.best_params_)\n",
        "    print()\n",
        "    print(\"Grid scores on development set:\")\n",
        "    print()\n",
        "    means = clf.cv_results_['mean_test_score']\n",
        "    stds = clf.cv_results_['std_test_score']\n",
        "\n",
        "    for mean, std, params in zip(means, stds, clf.cv_results_['params']):\n",
        "        print(\"%0.3f (+/-%0.03f) for %r\"\n",
        "              % (mean, std * 2, params))\n",
        "    print()\n",
        "\n",
        "    print(\"Detailed classification report:\")\n",
        "    print()\n",
        "    print(\"The model is trained on the full development set.\")\n",
        "    print(\"The scores are computed on the full evaluation set.\")\n",
        "    print()\n",
        "    y_true, y_pred = y_test, clf.predict(X_test)\n",
        "    print(classification_report(y_true, y_pred))\n",
        "    print()\n",
        "\n",
        "# Note the problem is too easy: the hyperparameter plateau is too flat and the\n",
        "# output model is the same for precision and recall with ties in quality."
      ],
      "execution_count": 0,
      "outputs": [
        {
          "output_type": "stream",
          "text": [
            "-----------------------------------------\n",
            "# Tuning hyper-parameters for accuracy\n",
            "\n",
            "Best parameters set found on development set:\n",
            "\n",
            "{'C': 10, 'gamma': 0.001, 'kernel': 'rbf'}\n",
            "\n",
            "Grid scores on development set:\n",
            "\n",
            "0.986 (+/-0.021) for {'C': 1, 'gamma': 0.001, 'kernel': 'rbf'}\n",
            "0.958 (+/-0.029) for {'C': 1, 'gamma': 0.0001, 'kernel': 'rbf'}\n",
            "0.987 (+/-0.021) for {'C': 10, 'gamma': 0.001, 'kernel': 'rbf'}\n",
            "0.981 (+/-0.029) for {'C': 10, 'gamma': 0.0001, 'kernel': 'rbf'}\n",
            "0.987 (+/-0.021) for {'C': 100, 'gamma': 0.001, 'kernel': 'rbf'}\n",
            "0.981 (+/-0.027) for {'C': 100, 'gamma': 0.0001, 'kernel': 'rbf'}\n",
            "0.987 (+/-0.021) for {'C': 1000, 'gamma': 0.001, 'kernel': 'rbf'}\n",
            "0.981 (+/-0.027) for {'C': 1000, 'gamma': 0.0001, 'kernel': 'rbf'}\n",
            "0.973 (+/-0.015) for {'C': 1, 'kernel': 'linear'}\n",
            "0.973 (+/-0.015) for {'C': 10, 'kernel': 'linear'}\n",
            "0.973 (+/-0.015) for {'C': 100, 'kernel': 'linear'}\n",
            "0.973 (+/-0.015) for {'C': 1000, 'kernel': 'linear'}\n",
            "\n",
            "Detailed classification report:\n",
            "\n",
            "The model is trained on the full development set.\n",
            "The scores are computed on the full evaluation set.\n",
            "\n",
            "              precision    recall  f1-score   support\n",
            "\n",
            "           0       1.00      1.00      1.00        89\n",
            "           1       0.97      1.00      0.98        90\n",
            "           2       0.99      0.98      0.98        92\n",
            "           3       1.00      0.99      0.99        93\n",
            "           4       1.00      1.00      1.00        76\n",
            "           5       0.99      0.98      0.99       108\n",
            "           6       0.99      1.00      0.99        89\n",
            "           7       0.99      1.00      0.99        78\n",
            "           8       1.00      0.98      0.99        92\n",
            "           9       0.99      0.99      0.99        92\n",
            "\n",
            "    accuracy                           0.99       899\n",
            "   macro avg       0.99      0.99      0.99       899\n",
            "weighted avg       0.99      0.99      0.99       899\n",
            "\n",
            "\n",
            "-----------------------------------------\n",
            "# Tuning hyper-parameters for precision\n",
            "\n",
            "Best parameters set found on development set:\n",
            "\n",
            "{'C': 10, 'gamma': 0.001, 'kernel': 'rbf'}\n",
            "\n",
            "Grid scores on development set:\n",
            "\n",
            "0.986 (+/-0.016) for {'C': 1, 'gamma': 0.001, 'kernel': 'rbf'}\n",
            "0.959 (+/-0.029) for {'C': 1, 'gamma': 0.0001, 'kernel': 'rbf'}\n",
            "0.988 (+/-0.017) for {'C': 10, 'gamma': 0.001, 'kernel': 'rbf'}\n",
            "0.982 (+/-0.026) for {'C': 10, 'gamma': 0.0001, 'kernel': 'rbf'}\n",
            "0.988 (+/-0.017) for {'C': 100, 'gamma': 0.001, 'kernel': 'rbf'}\n",
            "0.982 (+/-0.025) for {'C': 100, 'gamma': 0.0001, 'kernel': 'rbf'}\n",
            "0.988 (+/-0.017) for {'C': 1000, 'gamma': 0.001, 'kernel': 'rbf'}\n",
            "0.982 (+/-0.025) for {'C': 1000, 'gamma': 0.0001, 'kernel': 'rbf'}\n",
            "0.975 (+/-0.014) for {'C': 1, 'kernel': 'linear'}\n",
            "0.975 (+/-0.014) for {'C': 10, 'kernel': 'linear'}\n",
            "0.975 (+/-0.014) for {'C': 100, 'kernel': 'linear'}\n",
            "0.975 (+/-0.014) for {'C': 1000, 'kernel': 'linear'}\n",
            "\n",
            "Detailed classification report:\n",
            "\n",
            "The model is trained on the full development set.\n",
            "The scores are computed on the full evaluation set.\n",
            "\n",
            "              precision    recall  f1-score   support\n",
            "\n",
            "           0       1.00      1.00      1.00        89\n",
            "           1       0.97      1.00      0.98        90\n",
            "           2       0.99      0.98      0.98        92\n",
            "           3       1.00      0.99      0.99        93\n",
            "           4       1.00      1.00      1.00        76\n",
            "           5       0.99      0.98      0.99       108\n",
            "           6       0.99      1.00      0.99        89\n",
            "           7       0.99      1.00      0.99        78\n",
            "           8       1.00      0.98      0.99        92\n",
            "           9       0.99      0.99      0.99        92\n",
            "\n",
            "    accuracy                           0.99       899\n",
            "   macro avg       0.99      0.99      0.99       899\n",
            "weighted avg       0.99      0.99      0.99       899\n",
            "\n",
            "\n",
            "-----------------------------------------\n",
            "# Tuning hyper-parameters for recall\n",
            "\n",
            "Best parameters set found on development set:\n",
            "\n",
            "{'C': 10, 'gamma': 0.001, 'kernel': 'rbf'}\n",
            "\n",
            "Grid scores on development set:\n",
            "\n",
            "0.986 (+/-0.019) for {'C': 1, 'gamma': 0.001, 'kernel': 'rbf'}\n",
            "0.957 (+/-0.029) for {'C': 1, 'gamma': 0.0001, 'kernel': 'rbf'}\n",
            "0.987 (+/-0.019) for {'C': 10, 'gamma': 0.001, 'kernel': 'rbf'}\n",
            "0.981 (+/-0.028) for {'C': 10, 'gamma': 0.0001, 'kernel': 'rbf'}\n",
            "0.987 (+/-0.019) for {'C': 100, 'gamma': 0.001, 'kernel': 'rbf'}\n",
            "0.981 (+/-0.026) for {'C': 100, 'gamma': 0.0001, 'kernel': 'rbf'}\n",
            "0.987 (+/-0.019) for {'C': 1000, 'gamma': 0.001, 'kernel': 'rbf'}\n",
            "0.981 (+/-0.026) for {'C': 1000, 'gamma': 0.0001, 'kernel': 'rbf'}\n",
            "0.972 (+/-0.012) for {'C': 1, 'kernel': 'linear'}\n",
            "0.972 (+/-0.012) for {'C': 10, 'kernel': 'linear'}\n",
            "0.972 (+/-0.012) for {'C': 100, 'kernel': 'linear'}\n",
            "0.972 (+/-0.012) for {'C': 1000, 'kernel': 'linear'}\n",
            "\n",
            "Detailed classification report:\n",
            "\n",
            "The model is trained on the full development set.\n",
            "The scores are computed on the full evaluation set.\n",
            "\n",
            "              precision    recall  f1-score   support\n",
            "\n",
            "           0       1.00      1.00      1.00        89\n",
            "           1       0.97      1.00      0.98        90\n",
            "           2       0.99      0.98      0.98        92\n",
            "           3       1.00      0.99      0.99        93\n",
            "           4       1.00      1.00      1.00        76\n",
            "           5       0.99      0.98      0.99       108\n",
            "           6       0.99      1.00      0.99        89\n",
            "           7       0.99      1.00      0.99        78\n",
            "           8       1.00      0.98      0.99        92\n",
            "           9       0.99      0.99      0.99        92\n",
            "\n",
            "    accuracy                           0.99       899\n",
            "   macro avg       0.99      0.99      0.99       899\n",
            "weighted avg       0.99      0.99      0.99       899\n",
            "\n",
            "\n"
          ],
          "name": "stdout"
        }
      ]
    },
    {
      "cell_type": "markdown",
      "metadata": {
        "id": "WWzGricM2kH2",
        "colab_type": "text"
      },
      "source": [
        "## Your turn\n",
        "\n",
        "Estimate the best parameters for your training, taking into account accuracy alone, for your dataset using Cross Validation.\n",
        "\n",
        "If you are doing a classification problem, try precision and recall as well."
      ]
    },
    {
      "cell_type": "markdown",
      "metadata": {
        "id": "BXjDs4jPGjKe",
        "colab_type": "text"
      },
      "source": [
        "# Predicting probabilities: PR and ROC curves\n",
        "\n",
        "When making a prediction for a binary or two-class classification problem, there are two types of errors that we could make.\n",
        "\n",
        "* **False Positive**. Predict an event when there was no event.\n",
        "* **False Negative**. Predict no event when in fact there was an event.\n",
        "\n",
        "By predicting probabilities and calibrating a threshold, a balance of these two concerns can be chosen by the operator of the model."
      ]
    },
    {
      "cell_type": "markdown",
      "metadata": {
        "id": "OPfv1Vr-8ETx",
        "colab_type": "text"
      },
      "source": [
        "**Precision** ($P$) is defined as the number of true positives ($T_p$) over the number of true positives plus the number of false positives ($F_p$).\n",
        "\n",
        "$P = \\frac{T_p}{T_p+F_p}$\n",
        "\n",
        "**Recall or Sensitivity** ($R$) is defined as the number of true positives ($T_p$) over the number of true positives plus the number of false negatives ($F_n$).\n",
        "\n",
        "$R = \\frac{T_p}{T_p + F_n}$\n",
        "\n",
        "These quantities are also related to the ($F_1$) score, which is defined as the **harmonic mean of precision and recall**.\n",
        "\n",
        "$F1 = 2\\frac{P \\times R}{P+R}$\n",
        "\n",
        "\n"
      ]
    },
    {
      "cell_type": "markdown",
      "metadata": {
        "id": "vwIO6J_tHUZr",
        "colab_type": "text"
      },
      "source": [
        "## ROC curves\n",
        "\n",
        "A useful tool to predict probability of binary outcume (only binary!) is the Receiver Operating Characteristic cruve or ROC curve.\n",
        "\n",
        "The ROC curve plots the **FALSE POSITIVE RATE** (x-axis) versus the **TRUE POSITIVE RATE** (y-axis). We know that the **TRUE POSITIVE RATE** is the Recall or Sensitivity, but what is the **FALSE POSITIVE RATE**?\n",
        "\n",
        "$FPR = \\frac{F_p}{F_p+T_n}$\n",
        "\n",
        "It is a plot of the false positive rate (x-axis) versus the true positive rate (y-axis) for a number of different candidate threshold values between 0.0 and 1.0. Put another way, it plots the false alarm rate versus the hit rate.\n",
        "\n",
        "* Smaller values on the x-axis of the plot indicate lower false positives and higher true negatives.\n",
        "* Larger values on the y-axis of the plot indicate higher true positives and lower false negatives.\n",
        "\n",
        "`If you are confused, remember, when we predict a binary outcome, it is either a correct prediction (true positive) or not (false positive). There is a tension between these options, the same with true negative and false negative.`\n",
        "\n",
        "A skilful model will assign a higher probability to a randomly chosen real positive occurrence than a negative occurrence on average. This is what we mean when we say that the model has skill. Generally, skilful models are represented by curves that bow up to the top left of the plot.\n",
        "\n",
        "A no-skill classifier is one that cannot discriminate between the classes and would predict a random class or a constant class in all cases. A model with no skill is represented at the point (0.5, 0.5). A model with no skill at each threshold is represented by a diagonal line from the bottom left of the plot to the top right and has an AUC of 0.5.\n",
        "\n",
        "A model with perfect skill is represented at a point (0,1). A model with perfect skill is represented by a line that travels from the bottom left of the plot to the top left and then across the top to the top right.\n",
        "\n",
        "An operator may plot the ROC curve for the final model and choose a threshold that gives a desirable balance between the false positives and false negatives.\n",
        "\n",
        "\n",
        "\n"
      ]
    },
    {
      "cell_type": "code",
      "metadata": {
        "id": "kw5v8V38Kplh",
        "colab_type": "code",
        "outputId": "af4dbbab-4095-4c06-b677-64f3fb48339c",
        "colab": {
          "base_uri": "https://localhost:8080/",
          "height": 315
        }
      },
      "source": [
        "# roc curve and auc\n",
        "from sklearn.datasets import make_classification\n",
        "from sklearn.linear_model import LogisticRegression\n",
        "from sklearn.model_selection import train_test_split\n",
        "from sklearn.metrics import roc_curve\n",
        "from sklearn.metrics import roc_auc_score\n",
        "from matplotlib import pyplot\n",
        "\n",
        "# generate 2 class dataset\n",
        "X, y = make_classification(n_samples=1000, n_classes=2, random_state=1)\n",
        "\n",
        "# split into train/test sets\n",
        "trainX, testX, trainy, testy = train_test_split(X, y, test_size=0.5, random_state=2)\n",
        "\n",
        "# generate a no skill prediction (majority class)\n",
        "ns_probs = [0 for _ in range(len(testy))]\n",
        "\n",
        "# fit a model\n",
        "model = LogisticRegression(solver='lbfgs')\n",
        "model.fit(trainX, trainy)\n",
        "\n",
        "# predict probabilities\n",
        "lr_probs = model.predict_proba(testX)\n",
        "\n",
        "# keep probabilities for the positive outcome only\n",
        "lr_probs = lr_probs[:, 1]\n",
        "\n",
        "# calculate scores\n",
        "ns_auc = roc_auc_score(testy, ns_probs)\n",
        "lr_auc = roc_auc_score(testy, lr_probs)\n",
        "\n",
        "# summarize scores\n",
        "print('No Skill: ROC AUC=%.3f' % (ns_auc))\n",
        "print('Logistic: ROC AUC=%.3f' % (lr_auc))\n",
        "\n",
        "# calculate roc curves\n",
        "#No skill model\n",
        "ns_fpr, ns_tpr, thres_ns = roc_curve(testy, ns_probs)\n",
        "# Logarithmic model\n",
        "lr_fpr, lr_tpr, thres_lr = roc_curve(testy, lr_probs)\n",
        "\n",
        "# plot the roc curve for the model\n",
        "pyplot.plot(ns_fpr, ns_tpr, linestyle='--', label='No Skill')\n",
        "pyplot.plot(lr_fpr, lr_tpr, marker='.', label='Logistic')\n",
        "\n",
        "# axis labels\n",
        "pyplot.xlabel('False Positive Rate')\n",
        "pyplot.ylabel('True Positive Rate')\n",
        "\n",
        "# show the legend\n",
        "pyplot.legend()\n",
        "# show the plot\n",
        "pyplot.show()"
      ],
      "execution_count": 0,
      "outputs": [
        {
          "output_type": "stream",
          "text": [
            "No Skill: ROC AUC=0.500\n",
            "Logistic: ROC AUC=0.903\n"
          ],
          "name": "stdout"
        },
        {
          "output_type": "display_data",
          "data": {
            "image/png": "[encoded data removed]",
            "text/plain": [
              "<Figure size 432x288 with 1 Axes>"
            ]
          },
          "metadata": {
            "tags": []
          }
        }
      ]
    },
    {
      "cell_type": "code",
      "metadata": {
        "id": "BmiBH5szPjVI",
        "colab_type": "code",
        "outputId": "0f3b6363-f992-42b1-8982-38ba06778330",
        "colab": {
          "base_uri": "https://localhost:8080/",
          "height": 575
        }
      },
      "source": [
        "thres_lr"
      ],
      "execution_count": 0,
      "outputs": [
        {
          "output_type": "execute_result",
          "data": {
            "text/plain": [
              "array([1.99981055e+00, 9.99810555e-01, 9.92408365e-01, 9.91679828e-01,\n",
              "       9.90144555e-01, 9.89867568e-01, 9.79265264e-01, 9.79115074e-01,\n",
              "       9.61958719e-01, 9.61681033e-01, 9.47453942e-01, 9.46083338e-01,\n",
              "       9.24765054e-01, 9.23985965e-01, 9.03776284e-01, 8.96563782e-01,\n",
              "       8.88294853e-01, 8.87112806e-01, 8.78078335e-01, 8.76612424e-01,\n",
              "       8.28429524e-01, 8.27959147e-01, 8.23317999e-01, 8.22322697e-01,\n",
              "       8.07658186e-01, 8.07653554e-01, 7.79441385e-01, 7.68060225e-01,\n",
              "       7.63062006e-01, 7.62912313e-01, 7.61564252e-01, 7.58648634e-01,\n",
              "       7.49642618e-01, 7.46446600e-01, 7.32873897e-01, 7.31335000e-01,\n",
              "       7.23434675e-01, 7.15862908e-01, 6.92545325e-01, 6.92512778e-01,\n",
              "       6.92244651e-01, 6.82799726e-01, 6.80222962e-01, 6.79729854e-01,\n",
              "       6.70153267e-01, 6.56639891e-01, 6.47658558e-01, 6.46419471e-01,\n",
              "       6.36044813e-01, 6.35647643e-01, 6.18886716e-01, 6.14825818e-01,\n",
              "       6.12198494e-01, 6.03026960e-01, 5.92619457e-01, 5.90439114e-01,\n",
              "       5.73275256e-01, 5.70823475e-01, 5.70540796e-01, 5.69625194e-01,\n",
              "       5.61264294e-01, 5.60434187e-01, 5.50598070e-01, 5.32524455e-01,\n",
              "       5.29530623e-01, 5.27652986e-01, 5.13088042e-01, 5.01616608e-01,\n",
              "       4.89796043e-01, 4.67589167e-01, 4.64207032e-01, 4.55753661e-01,\n",
              "       4.53820020e-01, 4.50593094e-01, 4.39643321e-01, 4.34572049e-01,\n",
              "       4.33772072e-01, 3.98840087e-01, 3.74613530e-01, 3.55286739e-01,\n",
              "       3.42917946e-01, 3.40707625e-01, 3.31011154e-01, 3.17835539e-01,\n",
              "       3.10549670e-01, 3.06873780e-01, 3.02319728e-01, 2.97576317e-01,\n",
              "       2.96743999e-01, 2.88726892e-01, 2.88427796e-01, 2.82301704e-01,\n",
              "       2.79559594e-01, 2.79345925e-01, 2.75234284e-01, 2.51809563e-01,\n",
              "       2.29544010e-01, 2.23874663e-01, 2.09170025e-01, 1.98691303e-01,\n",
              "       1.84443372e-01, 1.22859592e-01, 1.14683308e-01, 9.83635286e-02,\n",
              "       9.31224664e-02, 8.83659795e-02, 8.55737954e-02, 8.33877256e-02,\n",
              "       8.28245628e-02, 7.81879280e-02, 7.29965896e-02, 5.45950280e-02,\n",
              "       5.32689607e-02, 4.89366919e-02, 4.75728835e-02, 2.25464897e-02,\n",
              "       2.21934800e-02, 1.77269799e-02, 1.68725428e-02, 6.23690579e-03,\n",
              "       6.13750462e-03, 8.11560718e-05])"
            ]
          },
          "metadata": {
            "tags": []
          },
          "execution_count": 68
        }
      ]
    },
    {
      "cell_type": "markdown",
      "metadata": {
        "id": "oIeoxopFSh5I",
        "colab_type": "text"
      },
      "source": [
        "### Finding the best threshold: cutoff point\n",
        "\n",
        "This depends on our classification problem!!!! If we are dealing with crimes (when people are dead) we want to maximize, TPR so that we avoid people dying. But in a non life threatening scenario, we can actually use this method."
      ]
    },
    {
      "cell_type": "code",
      "metadata": {
        "id": "-KWoIbY0T-Yg",
        "colab_type": "code",
        "colab": {}
      },
      "source": [
        "import pandas as pd\n",
        "\n",
        "def Find_Optimal_Cutoff(target, predicted):\n",
        "    \"\"\" Find the optimal probability cutoff point for a classification model related to event rate\n",
        "    Parameters\n",
        "    ----------\n",
        "    target : Matrix with dependent or target data, where rows are observations\n",
        "\n",
        "    predicted : Matrix with predicted data, where rows are observations\n",
        "\n",
        "    Returns\n",
        "    -------     \n",
        "    list type, with optimal cutoff value\n",
        "\n",
        "    \"\"\"\n",
        "    fpr, tpr, threshold = roc_curve(target, predicted)\n",
        "    i = np.arange(len(tpr)) \n",
        "    roc = pd.DataFrame({'tf' : pd.Series(tpr-(1-fpr), index=i), \n",
        "                        'threshold' : pd.Series(threshold, index=i),\n",
        "                        'tpr': pd.Series(tpr, index=i),\n",
        "                        'fpr': pd.Series((fpr), index=i)})\n",
        "    \n",
        "    roc_t = roc.iloc[(roc.tf-0).abs().argsort()[:1]]\n",
        "\n",
        "    return list(roc_t['threshold']), list(roc_t['tpr']), list(roc_t['fpr'])"
      ],
      "execution_count": 0,
      "outputs": []
    },
    {
      "cell_type": "code",
      "metadata": {
        "id": "tDdgimkAKprQ",
        "colab_type": "code",
        "outputId": "9430c86a-aa9c-497d-92eb-48c0da3d2d6c",
        "colab": {
          "base_uri": "https://localhost:8080/",
          "height": 333
        }
      },
      "source": [
        "####################################\n",
        "# The optimal cut off would be where tpr is high and fpr is low\n",
        "# tpr - (1-fpr) is zero or near to zero is the optimal cut off point\n",
        "####################################\n",
        "\n",
        "a, b, c = Find_Optimal_Cutoff(testy, lr_probs)\n",
        "\n",
        "print(\"Best threshold\", a)\n",
        "print(\"Best TPR\", b)\n",
        "print(\"Best FPR\", c)\n",
        "\n",
        "# plot the roc curve for the model\n",
        "pyplot.plot(1-lr_fpr, linestyle='--', label='1-FPR')\n",
        "pyplot.plot(lr_tpr, marker='.', label='TPR')\n",
        "\n",
        "# axis labels\n",
        "pyplot.xlabel('False Positive Rate')\n",
        "pyplot.ylabel('True Positive Rate')\n",
        "\n",
        "# show the legend\n",
        "pyplot.legend()\n",
        "# show the plot\n",
        "pyplot.show()"
      ],
      "execution_count": 0,
      "outputs": [
        {
          "output_type": "stream",
          "text": [
            "Best threshold [0.529530623434401]\n",
            "Best TPR [0.8346153846153846]\n",
            "Best FPR [0.16666666666666666]\n"
          ],
          "name": "stdout"
        },
        {
          "output_type": "display_data",
          "data": {
            "image/png": "[encoded data removed]",
            "text/plain": [
              "<Figure size 432x288 with 1 Axes>"
            ]
          },
          "metadata": {
            "tags": []
          }
        }
      ]
    },
    {
      "cell_type": "code",
      "metadata": {
        "id": "JzkkMy8kY6KT",
        "colab_type": "code",
        "outputId": "ef476e9c-1719-4d23-d875-95832892d62e",
        "colab": {
          "base_uri": "https://localhost:8080/",
          "height": 1000
        }
      },
      "source": [
        "y_class = lr_probs > a\n",
        "y_class"
      ],
      "execution_count": 0,
      "outputs": [
        {
          "output_type": "execute_result",
          "data": {
            "text/plain": [
              "array([ True,  True, False, False,  True, False, False, False,  True,\n",
              "        True, False,  True, False,  True,  True,  True, False,  True,\n",
              "       False,  True,  True, False, False,  True, False,  True,  True,\n",
              "        True, False,  True,  True,  True, False,  True, False, False,\n",
              "        True,  True,  True, False, False, False, False,  True, False,\n",
              "       False, False,  True, False, False, False,  True,  True, False,\n",
              "       False,  True, False, False, False,  True,  True, False,  True,\n",
              "       False, False, False, False, False,  True,  True, False, False,\n",
              "        True,  True,  True,  True, False,  True, False, False, False,\n",
              "       False,  True, False,  True, False,  True, False,  True,  True,\n",
              "        True,  True,  True,  True,  True,  True, False,  True, False,\n",
              "        True,  True, False,  True, False, False, False,  True, False,\n",
              "        True, False, False,  True,  True, False, False,  True,  True,\n",
              "       False, False,  True, False, False, False, False,  True,  True,\n",
              "        True,  True,  True,  True, False,  True, False, False, False,\n",
              "        True, False, False,  True, False,  True,  True,  True, False,\n",
              "       False, False, False,  True,  True, False,  True, False, False,\n",
              "       False,  True,  True, False, False, False,  True, False,  True,\n",
              "        True, False, False,  True, False, False,  True, False, False,\n",
              "        True,  True, False, False, False,  True, False, False,  True,\n",
              "       False,  True, False,  True, False,  True,  True, False, False,\n",
              "        True,  True,  True, False,  True,  True, False, False,  True,\n",
              "        True, False, False,  True,  True,  True, False, False,  True,\n",
              "       False, False,  True,  True,  True, False,  True, False, False,\n",
              "        True,  True,  True,  True, False,  True, False,  True,  True,\n",
              "       False, False, False, False,  True, False, False,  True,  True,\n",
              "        True,  True,  True, False,  True,  True, False, False,  True,\n",
              "       False, False,  True, False,  True, False,  True,  True, False,\n",
              "        True,  True,  True, False,  True, False, False, False,  True,\n",
              "       False, False,  True, False, False, False, False, False, False,\n",
              "       False, False,  True, False,  True, False, False, False,  True,\n",
              "        True, False, False, False, False, False,  True, False, False,\n",
              "        True, False,  True, False, False, False,  True,  True, False,\n",
              "        True,  True, False,  True,  True, False, False, False, False,\n",
              "       False,  True,  True, False,  True,  True,  True,  True,  True,\n",
              "       False,  True,  True, False,  True,  True,  True,  True,  True,\n",
              "        True, False,  True,  True,  True,  True,  True,  True,  True,\n",
              "       False, False,  True, False, False,  True, False,  True, False,\n",
              "       False, False, False,  True,  True, False,  True,  True,  True,\n",
              "       False, False,  True, False, False,  True, False, False,  True,\n",
              "        True,  True, False,  True, False,  True,  True,  True, False,\n",
              "        True, False, False, False,  True,  True, False,  True,  True,\n",
              "        True,  True, False, False,  True, False,  True,  True,  True,\n",
              "        True,  True,  True,  True,  True,  True, False,  True, False,\n",
              "        True, False,  True,  True, False, False,  True, False,  True,\n",
              "        True, False,  True, False,  True,  True, False, False,  True,\n",
              "        True, False,  True, False,  True, False,  True, False,  True,\n",
              "       False, False, False, False, False,  True,  True, False, False,\n",
              "       False, False, False,  True,  True,  True,  True,  True, False,\n",
              "        True,  True, False, False,  True,  True,  True,  True, False,\n",
              "        True,  True,  True, False,  True,  True, False,  True,  True,\n",
              "        True,  True, False, False,  True,  True, False, False, False,\n",
              "        True,  True, False, False, False,  True,  True, False, False,\n",
              "       False, False,  True, False,  True, False,  True,  True, False,\n",
              "        True,  True,  True, False,  True,  True, False, False, False,\n",
              "        True,  True, False,  True, False])"
            ]
          },
          "metadata": {
            "tags": []
          },
          "execution_count": 130
        }
      ]
    },
    {
      "cell_type": "markdown",
      "metadata": {
        "id": "0tAA2Afr6Y0Q",
        "colab_type": "text"
      },
      "source": [
        "## Precision-Recall curves\n",
        "\n",
        "Precision-Recall is a useful measure of success of prediction when the classes are very imbalanced. In information retrieval, precision is a measure of result relevancy, while recall is a measure of how many truly relevant results are returned.\n",
        "\n",
        "The precision-recall curve shows the tradeoff between precision and recall for different threshold. A high area under the curve represents both high recall and high precision, where high precision relates to a low false positive rate, and high recall relates to a low false negative rate. High scores for both show that the classifier is returning accurate results (high precision), as well as returning a majority of all positive results (high recall).\n",
        "\n",
        "A system with high recall but low precision returns many results, but most of its predicted labels are incorrect when compared to the training labels. A system with high precision but low recall is just the opposite, returning very few results, but most of its predicted labels are correct when compared to the training labels. An ideal system with high precision and high recall will return many results, with all results labeled correctly."
      ]
    },
    {
      "cell_type": "markdown",
      "metadata": {
        "id": "FEGUF8c-96K-",
        "colab_type": "text"
      },
      "source": [
        "Note that the **precision may not decrease with recall**. The definition of precision ($\\frac{T_p}{T_p + F_p}$) shows that lowering the threshold of a classifier may increase the denominator, by increasing the number of results returned. If the threshold was previously set too high, the new results may all be true positives, which will increase precision. If the previous threshold was about right or too low, further lowering the threshold will introduce false positives, decreasing precision.\n",
        "\n",
        "Recall is defined as $\\frac{T_p}{T_p+F_n}$, where $T_p+F_n$ does not depend on the classifier threshold. This means that lowering the classifier threshold may increase recall, by increasing the number of **true** positive results. It is also possible that lowering the threshold may leave recall unchanged, while the precision fluctuates."
      ]
    },
    {
      "cell_type": "markdown",
      "metadata": {
        "id": "V4wfHBOoBLWK",
        "colab_type": "text"
      },
      "source": [
        "The relationship between recall and precision can be observed in the stairstep area of the plot - at the edges of these steps a small change in the threshold considerably reduces precision, with only a minor gain in recall.\n",
        "\n",
        "**Average precision** (AP) summarizes such a plot as the weighted mean of precisions achieved at each threshold, with the increase in recall from the previous threshold used as the weight:\n",
        "\n",
        "$\\text{AP} = \\sum_n (R_n - R_{n-1}) P_n$\n",
        "\n",
        "\n",
        "where $P_n$ and $R_n$ are the precision and recall at the nth threshold. A pair $(R_k, P_k)$ is referred to as an operating point.\n",
        "\n",
        "AP and the trapezoidal area under the operating points (Area Under Curve (AUC) [link text](https://scikit-learn.org/stable/modules/generated/sklearn.metrics.auc.html#sklearn.metrics.auc)) are common ways to summarize a precision-recall curve that lead to different results."
      ]
    },
    {
      "cell_type": "code",
      "metadata": {
        "id": "1eISR03K6bIA",
        "colab_type": "code",
        "colab": {}
      },
      "source": [
        "from sklearn import svm, datasets\n",
        "from sklearn.model_selection import train_test_split\n",
        "import numpy as np\n",
        "\n",
        "iris = datasets.load_iris()\n",
        "X = iris.data\n",
        "y = iris.target\n",
        "\n",
        "# Add noisy features\n",
        "random_state = np.random.RandomState(0)\n",
        "n_samples, n_features = X.shape\n",
        "X = np.c_[X, random_state.randn(n_samples, 200 * n_features)]\n",
        "\n",
        "# Limit to the two first classes, and split into training and test\n",
        "X_train, X_test, y_train, y_test = train_test_split(X[y < 2], y[y < 2],\n",
        "                                                    test_size=.5,\n",
        "                                                    random_state=random_state)\n",
        "\n",
        "# Create a simple classifier\n",
        "classifier = svm.LinearSVC(random_state=random_state)\n",
        "classifier.fit(X_train, y_train)\n",
        "\n",
        "#Predicts confidence scores for samples\n",
        "y_score = classifier.decision_function(X_test)"
      ],
      "execution_count": 0,
      "outputs": []
    },
    {
      "cell_type": "code",
      "metadata": {
        "id": "zYLVl2d15Mkd",
        "colab_type": "code",
        "outputId": "c4440a4e-580d-4dc9-a094-289e9530cc72",
        "colab": {
          "base_uri": "https://localhost:8080/",
          "height": 35
        }
      },
      "source": [
        "from sklearn.metrics import average_precision_score\n",
        "average_precision = average_precision_score(y_test, y_score)\n",
        "\n",
        "print('Average precision-recall score: {0:0.2f}'.format(\n",
        "      average_precision))"
      ],
      "execution_count": 0,
      "outputs": [
        {
          "output_type": "stream",
          "text": [
            "Average precision-recall score: 0.88\n"
          ],
          "name": "stdout"
        }
      ]
    },
    {
      "cell_type": "code",
      "metadata": {
        "id": "-7LJwygu37dY",
        "colab_type": "code",
        "outputId": "d44b7941-c029-4928-e37c-54c3c2e703f2",
        "colab": {
          "base_uri": "https://localhost:8080/",
          "height": 313
        }
      },
      "source": [
        "from sklearn.metrics import precision_recall_curve\n",
        "\n",
        "import matplotlib.pyplot as plt\n",
        "from inspect import signature\n",
        "\n",
        "precision, recall, thresholds = precision_recall_curve(y_test, y_score)\n",
        "\n",
        "# In matplotlib < 1.5, plt.fill_between does not have a 'step' argument\n",
        "step_kwargs = ({'step': 'post'}\n",
        "               if 'step' in signature(plt.fill_between).parameters\n",
        "               else {})\n",
        "plt.step(recall, precision, color='b', alpha=0.2,\n",
        "         where='post')\n",
        "plt.fill_between(recall, precision, alpha=0.2, color='b', **step_kwargs)\n",
        "\n",
        "plt.xlabel('Recall')\n",
        "plt.ylabel('Precision')\n",
        "plt.ylim([0.0, 1.05])\n",
        "plt.xlim([0.0, 1.0])\n",
        "plt.title('2-class Precision-Recall curve: AP={0:0.2f}'.format(\n",
        "          average_precision))"
      ],
      "execution_count": 0,
      "outputs": [
        {
          "output_type": "execute_result",
          "data": {
            "text/plain": [
              "Text(0.5, 1.0, '2-class Precision-Recall curve: AP=0.88')"
            ]
          },
          "metadata": {
            "tags": []
          },
          "execution_count": 133
        },
        {
          "output_type": "display_data",
          "data": {
            "image/png": "[encoded data removed]",
            "text/plain": [
              "<Figure size 432x288 with 1 Axes>"
            ]
          },
          "metadata": {
            "tags": []
          }
        }
      ]
    },
    {
      "cell_type": "code",
      "metadata": {
        "id": "H_7hROIkaJzR",
        "colab_type": "code",
        "outputId": "7ad73d43-43f9-47a2-ddaf-a55e316dd47a",
        "colab": {
          "base_uri": "https://localhost:8080/",
          "height": 179
        }
      },
      "source": [
        "thresholds"
      ],
      "execution_count": 0,
      "outputs": [
        {
          "output_type": "execute_result",
          "data": {
            "text/plain": [
              "array([-0.20078869, -0.18029058, -0.15043726, -0.14958466, -0.12733462,\n",
              "       -0.1142941 , -0.09281931, -0.08794601, -0.08258102, -0.07007139,\n",
              "       -0.06386267, -0.04914839, -0.04536122, -0.03991278,  0.0032915 ,\n",
              "        0.01213433,  0.02619439,  0.03145977,  0.04871897,  0.0515638 ,\n",
              "        0.06493837,  0.065023  ,  0.09898417,  0.11549516,  0.12179099,\n",
              "        0.12585371,  0.16106135,  0.1906223 ,  0.20018683,  0.20105976,\n",
              "        0.22408591,  0.22931596,  0.24693291,  0.26336904,  0.27523711,\n",
              "        0.30423874,  0.31364573,  0.39424539,  0.40148935,  0.42411536,\n",
              "        0.42593404,  0.49589616])"
            ]
          },
          "metadata": {
            "tags": []
          },
          "execution_count": 134
        }
      ]
    },
    {
      "cell_type": "markdown",
      "metadata": {
        "id": "w7WKmxic26C8",
        "colab_type": "text"
      },
      "source": [
        "## Your turn\n",
        "\n",
        "Try to generate ROC curves for your dataset and algorithm, and find a cutoff point with the best threshold. \n",
        "\n",
        "Even if your dataset is balanced, plot precision-recall curves as well."
      ]
    },
    {
      "cell_type": "code",
      "metadata": {
        "id": "5HW1CtmsaKZl",
        "colab_type": "code",
        "colab": {}
      },
      "source": [
        ""
      ],
      "execution_count": 0,
      "outputs": []
    }
  ]
}